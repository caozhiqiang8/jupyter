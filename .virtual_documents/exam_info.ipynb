import pandas as pd


exam_info = pd.read_excel('C:\\Users\\caozhiqiang\\Desktop\\考试数据分析\\北京四中数据\\20-21第二学期一模考试\\整理数据\\学生成绩.xlsx')
exam_info.head()


ex


workline = [
  {
    "workLineName": "1%(353.0分)",
    "workLineX": 353
  },
  {
    "workLineName": "3%(344.0分)",
    "workLineX": 344
  },
  {
    "workLineName": "5%(339.0分)",
    "workLineX": 339
  },
  {
    "workLineName": "10%(329.5分)",
    "workLineX": 329
  },
  {
    "workLineName": "20%(315.5分)",
    "workLineX": 315
  },
  {
    "workLineName": "30%(301.5分)",
    "workLineX": 301
  },
  {
    "workLineName": "100%(0.0分)",
    "workLineX": 0
  }
]

workline_list = []
for i in workline:
    workline_list.append(i['workLineX'])

workline_list = workline_list[:-1]
print(workline_list)


workline_list = [353.0,344.0,339.0,329.5,315.5,301.5]


columns = [353.0,344.0,339.0,329.5,315.5,301.5]
index = exam_info.drop_duplicates(subset='班级',keep='first')['班级'].to_list()
index





user_num = []
for i in workline_list:
    user_num.append(len(exam_info[  (exam_info['三科']>=i ) ]['姓名'].to_list()))
print(user_num)


for i in workline_list:
#     print(exam_info[  (exam_info['三科']>=i )])
#     user_num = []
#     user_num.append() 
#     print('{}：{}人'.format(i,len(exam_info[  (exam_info['三科']>=i ) ]['姓名'].to_list())),exam_info[  (exam_info['三科']>=i ) ]['姓名'].to_list())
    



exam_info_02 = exam_info[ (exam_info['班级']=='九02班') & (exam_info['三科']>268.0 ) ]
exam_info_02['姓名'].to_list()


# exam_info_02.to_excel('C:\\Users\\caozhiqiang\\Downloads\\keyi.xls')


lgf_yw = pd.read_excel('C:\\Users\\caozhiqiang\\Desktop\\考试数据分析\\理工附中数据\\20~21第一学期初三期中考试\\254253189784\\1.xlsx',header = 0,skiprows = [0,1,2,3])
lgf_yw['总分'] = lgf_yw.iloc[:,4:].sum(axis=1)
lgf_yw[:]


lgf_yw.to_excel('C:\\Users\\caozhiqiang\\Downloads\\keyi.xls')


qy_score = pd.read_excel('C:\\Users\\caozhiqiang\\Desktop\\考试数据分析\\北京四中数据\\20-21第二学期一模考试\\整理数据\\尖子生人数\\区域学科人数.xlsx')
qy_score


qy_score['语文'].to_list()


yw_score = qy_score['语文'].to_list()
sx_score = qy_score['数学'].to_list()
yy_score = qy_score['英语'].to_list()
zz_score = qy_score['政治'].to_list()
ls_score = qy_score['历史'].to_list()
dl_score = qy_score['地理'].to_list()
hx_score = qy_score['化学'].to_list()
wl_score = qy_score['物理'].to_list()
sw_score = qy_score['生物'].to_list()
sk_score = qy_score['三科'].to_list()



file_name_list = ['语文','数学','英语','政治','历史','地理','化学','物理','生物','三科']


x = []
y = []


for file_name in file_name_list:
    yw = pd.read_excel('C:\\Users\\caozhiqiang\\Desktop\\考试数据分析\\北京四中数据\\20-21第二学期一模考试\\整理数据\\尖子生人数\\{}.xls'.format(file_name))
    if file_name == '语文':
        yw_list = []
        for i in range(len(yw_score)) :
            
            yw_list.append((yw['地区名次']<= yw_score[i]).value_counts()[True])
        x.append(yw_list)
        
    if file_name == '数学':
        sx_list = []
        for i in range(len(sx_score)) :
            
            sx_list.append((yw['地区名次']<= sx_score[i]).value_counts()[True])
        x.append(sx_list)
            
    if file_name == '英语':
        yy_list = []
        for i in range(len(yy_score)) : 
            yy_list.append((yw['地区名次']<= yy_score[i]).value_counts()[True])
        x.append(yy_list)
        
    if file_name == '政治':
        zz_list = []
        for i in range(len(zz_score)) :
            zz_list.append((yw['地区名次']<= zz_score[i]).value_counts()[True])
        x.append(zz_list)
    if file_name == '历史':
        ls_list = []
        for i in range(len(ls_score)) :
            ls_list.append((yw['地区名次']<= ls_score[i]).value_counts()[True])
        x.append(ls_list)  
    if file_name == '地理':
        dl_list = []
        for i in range(len(dl_score)) :
            dl_list.append((yw['地区名次']<= dl_score[i]).value_counts()[True])
        x.append(dl_list) 
    if file_name == '化学':
        hx_list = []
        for i in range(len(hx_score)) :
            hx_list.append((yw['地区名次']<= hx_score[i]).value_counts()[True])
        x.append(hx_list) 
    if file_name == '物理':
        dl_list = []
        for i in range(len(wl_score)) :
            dl_list.append((yw['地区名次']<= wl_score[i]).value_counts()[True])
        x.append(dl_list)
    if file_name == '生物':
        sw_list = []
        for i in range(len(sw_score)) :
            sw_list.append((yw['地区名次']<= sw_score[i]).value_counts()[True])
        x.append(sw_list)
    if file_name == '三科':
        sk_list = []
        for i in range(len(sk_score)) :
            sk_list.append((yw['地区名次']<= sk_score[i]).value_counts()[True])
        x.append(sk_list)
                   
        
data = pd.DataFrame(x)
data.columns = ['1.25%','2.5%','3.75%','5%']
# data.index = ['语文','数学','英语','政治','历史','地理','化学','物理','生物','三科']
data.index = file_name_list
data


sz_exam = pd.read_excel('/Users/caozhiqiang/Downloads/北京市第四中学分析.xls')
sz_exam


sz_exam.info()


sz_exam[sz_exam['语文'] >= 126.5]



exam_list = [
  {
    "objectDisplayName": "本校",
    "objectName": "本校",
    "objectType": 0,
    "pointArray": [
      {
        "name": "0",
        "value": "0"
      },
      {
        "name": "0",
        "value": "0"
      },
      {
        "name": "0",
        "value": "0"
      },
      {
        "name": "0",
        "value": "0"
      },
      {
        "name": "0",
        "value": "0"
      },
      {
        "name": "0",
        "value": "0"
      },
      {
        "name": "0",
        "value": "0"
      },
      {
        "name": "0",
        "value": "0"
      },
      {
        "name": "0",
        "value": "0"
      },
      {
        "name": "0",
        "value": "0"
      },
      {
        "name": "0",
        "value": "0"
      },
      {
        "name": "0",
        "value": "0"
      },
      {
        "name": "1",
        "value": "0"
      },
      {
        "name": "0",
        "value": "0"
      },
      {
        "name": "1",
        "value": "0"
      },
      {
        "name": "0",
        "value": "0"
      },
      {
        "name": "2",
        "value": "1"
      },
      {
        "name": "4",
        "value": "2"
      },
      {
        "name": "9",
        "value": "4"
      },
      {
        "name": "12",
        "value": "6"
      },
      {
        "name": "15",
        "value": "7"
      },
      {
        "name": "22",
        "value": "11"
      },
      {
        "name": "17",
        "value": "8"
      },
      {
        "name": "16",
        "value": "8"
      },
      {
        "name": "17",
        "value": "8"
      },
      {
        "name": "17",
        "value": "8"
      },
      {
        "name": "14",
        "value": "7"
      },
      {
        "name": "13",
        "value": "6"
      },
      {
        "name": "12",
        "value": "6"
      },
      {
        "name": "6",
        "value": "3"
      },
      {
        "name": "7",
        "value": "3"
      },
      {
        "name": "4",
        "value": "2"
      },
      {
        "name": "4",
        "value": "2"
      },
      {
        "name": "2",
        "value": "1"
      },
      {
        "name": "5",
        "value": "2"
      },
      {
        "name": "0",
        "value": "0"
      },
      {
        "name": "0",
        "value": "0"
      },
      {
        "name": "0",
        "value": "0"
      },
      {
        "name": "0",
        "value": "0"
      },
      {
        "name": "0",
        "value": "0"
      },
      {
        "name": "0",
        "value": "0"
      },
      {
        "name": "1",
        "value": "0"
      },
      {
        "name": "0",
        "value": "0"
      },
      {
        "name": "0",
        "value": "0"
      },
      {
        "name": "0",
        "value": "0"
      },
      {
        "name": "0",
        "value": "0"
      },
      {
        "name": "0",
        "value": "0"
      },
      {
        "name": "0",
        "value": "0"
      },
      {
        "name": "0",
        "value": "0"
      },
      {
        "name": "0",
        "value": "0"
      },
      {
        "name": "0",
        "value": "0"
      },
      {
        "name": "0",
        "value": "0"
      },
      {
        "name": "0",
        "value": "0"
      },
      {
        "name": "0",
        "value": "0"
      },
      {
        "name": "0",
        "value": "0"
      },
      {
        "name": "0",
        "value": "0"
      },
      {
        "name": "0",
        "value": "0"
      },
      {
        "name": "0",
        "value": "0"
      },
      {
        "name": "0",
        "value": "0"
      },
      {
        "name": "0",
        "value": "0"
      },
      {
        "name": "0",
        "value": "0"
      },
      {
        "name": "0",
        "value": "0"
      },
      {
        "name": "0",
        "value": "0"
      },
      {
        "name": "0",
        "value": "0"
      },
      {
        "name": "0",
        "value": "0"
      },
      {
        "name": "0",
        "value": "0"
      },
      {
        "name": "0",
        "value": "0"
      },
      {
        "name": "0",
        "value": "0"
      },
      {
        "name": "0",
        "value": "0"
      },
      {
        "name": "0",
        "value": "0"
      },
      {
        "name": "0",
        "value": "0"
      },
      {
        "name": "0",
        "value": "0"
      },
      {
        "name": "0",
        "value": "0"
      },
      {
        "name": "0",
        "value": "0"
      },
      {
        "name": "0",
        "value": "0"
      },
      {
        "name": "0",
        "value": "0"
      }
    ]
  }
]

for i in exam_list:
#     print(i['pointArray']) 
    name_list = []
    value_list = []

    for p in i['pointArray']:        
        name_list.append(p['name'])
        value_list.append(p['value'])
        
    print(i['objectName'])
    print(name_list)
    print(value_list)





score_list = [
  "[150,150]",
  "[148,150)",
  "[146,148)",
  "[144,146)",
  "[142,144)",
  "[140,142)",
  "[138,140)",
  "[136,138)",
  "[134,136)",
  "[132,134)",
  "[130,132)",
  "[128,130)",
  "[126,128)",
  "[124,126)",
  "[122,124)",
  "[120,122)",
  "[118,120)",
  "[116,118)",
  "[114,116)",
  "[112,114)",
  "[110,112)",
  "[108,110)",
  "[106,108)",
  "[104,106)",
  "[102,104)",
  "[100,102)",
  "[98,100)",
  "[96,98)",
  "[94,96)",
  "[92,94)",
  "[90,92)",
  "[88,90)",
  "[86,88)",
  "[84,86)",
  "[82,84)",
  "[80,82)",
  "[78,80)",
  "[76,78)",
  "[74,76)",
  "[72,74)",
  "[70,72)",
  "[68,70)",
  "[66,68)",
  "[64,66)",
  "[62,64)",
  "[60,62)",
  "[58,60)",
  "[56,58)",
  "[54,56)",
  "[52,54)",
  "[50,52)",
  "[48,50)",
  "[46,48)",
  "[44,46)",
  "[42,44)",
  "[40,42)",
  "[38,40)",
  "[36,38)",
  "[34,36)",
  "[32,34)",
  "[30,32)",
  "[28,30)",
  "[26,28)",
  "[24,26)",
  "[22,24)",
  "[20,22)",
  "[18,20)",
  "[16,18)",
  "[14,16)",
  "[12,14)",
  "[10,12)",
  "[8,10)",
  "[6,8)",
  "[4,6)",
  "[2,4)",
  "[0,2)"
]
print(score_list)


rank_score_excel = pd.read_excel('C:\\Users\\caozhiqiang\\Desktop\\考试数据分析\\北京四中数据\\20-21第二学期一模考试\\整理数据\\等级赋分\\等级赋分表.xlsx')
rank_score_excel


stu_exam = pd.read_excel('C:\\Users\\caozhiqiang\\Desktop\\考试数据分析\\北京四中数据\\20-21第二学期一模考试\\整理数据\\等级赋分\\四中一模成绩单.xlsx')
stu_exam = stu_exam.fillna(0)
stu_exam


def rank_score(score,rank_score):

    if score >= rank_score[0]:

        return 100
    elif score >= rank_score[1] and score<rank_score[0]:
        return 97
    elif score >= rank_score[2] and score<rank_score[1]:
        return 94
    elif score >= rank_score[3] and score<rank_score[2]:
        return 91
    elif score >= rank_score[4] and score<rank_score[3]:
        return 88
    elif score >= rank_score[5] and score<rank_score[4]:
        return 85
    elif score >= rank_score[6] and score<rank_score[5]:
        return 82
    elif score >= rank_score[7] and score<rank_score[6]:
        return 79
    elif score >= rank_score[8] and score<rank_score[7]:
        return 76
    elif score >= rank_score[9] and score<rank_score[8]:
        return 73
    elif score >= rank_score[10] and score<rank_score[9]:
        return 70
    elif score >= rank_score[11] and score<rank_score[10]:
        return 67
    elif score >= rank_score[12] and score<rank_score[11]:
        return 64
    elif score >= rank_score[13] and score<rank_score[12]:
        return 61
    elif score >= rank_score[14] and score<rank_score[13]:
        return 58
    elif score >= rank_score[15] and score<rank_score[14]:
        return 55
    elif score >= rank_score[16] and score<rank_score[15]:
        return 52
    elif score >= rank_score[17] and score<rank_score[16]:
        return 49
    elif score >= rank_score[18] and score<rank_score[17]:
        return 46
    elif score >= rank_score[19] and score<rank_score[18]:
        return 43
    elif score >= rank_score[20] and score<rank_score[19]:
        return 40





wl_rank_score = rank_score_excel['物理'].to_list()
hx_rank_score = rank_score_excel['化学'].to_list()
ls_rank_score = rank_score_excel['历史'].to_list()
sw_rank_score = rank_score_excel['生物'].to_list()
dl_rank_score = rank_score_excel['地理'].to_list()
zz_rank_score = rank_score_excel['政治'].to_list()


stu_exam['物赋分'] = stu_exam['物理'].apply(lambda x: rank_score(x,rank_score=wl_rank_score) )
stu_exam['化赋分'] = stu_exam['化学'].apply(lambda x: rank_score(x,rank_score=hx_rank_score) )
stu_exam['政赋分'] = stu_exam['政治'].apply(lambda x: rank_score(x,rank_score=zz_rank_score) )
stu_exam['历赋分'] = stu_exam['历史'].apply(lambda x: rank_score(x,rank_score=ls_rank_score) )
stu_exam['生赋分'] = stu_exam['生物'].apply(lambda x: rank_score(x,rank_score=sw_rank_score) )
stu_exam['地赋分'] = stu_exam['地理'].apply(lambda x: rank_score(x,rank_score=dl_rank_score) )

stu_exam


stu_exam.to_excel('C:\\Users\\caozhiqiang\\Downloads\\赋分后数据.xls')


qm_stu_exam = pd.read_excel('C:\\Users\\caozhiqiang\\Desktop\\考试数据分析\\北京四中数据\\20-21第一学期高三期末考试\\数据整理\\等级赋分\\期末考试学生名单.xlsx',sheet_name = 'sheet1')
qm_rank_score = pd.read_excel('C:\\Users\\caozhiqiang\\Desktop\\考试数据分析\\北京四中数据\\20-21第一学期高三期末考试\\数据整理\\等级赋分\\期末考试学生名单.xlsx',sheet_name = '等级赋分表')



qm_stu_exam


qm_rank_score


wl_rank_score = qm_rank_score['物理'].to_list()
hx_rank_score = qm_rank_score['化学'].to_list()
ls_rank_score = qm_rank_score['历史'].to_list()
sw_rank_score = qm_rank_score['生物'].to_list()
dl_rank_score = qm_rank_score['地理'].to_list()
zz_rank_score = qm_rank_score['政治'].to_list()


qm_stu_exam['物赋分'] = qm_stu_exam['物理'].apply(lambda x: rank_score(x,rank_score=wl_rank_score) )
qm_stu_exam['化赋分'] = qm_stu_exam['化学'].apply(lambda x: rank_score(x,rank_score=hx_rank_score) )
qm_stu_exam['政赋分'] = qm_stu_exam['政治'].apply(lambda x: rank_score(x,rank_score=zz_rank_score) )
qm_stu_exam['历赋分'] = qm_stu_exam['历史'].apply(lambda x: rank_score(x,rank_score=ls_rank_score) )
qm_stu_exam['生赋分'] = qm_stu_exam['生物'].apply(lambda x: rank_score(x,rank_score=sw_rank_score) )
qm_stu_exam['地赋分'] = qm_stu_exam['地理'].apply(lambda x: rank_score(x,rank_score=dl_rank_score) )

qm_stu_exam


qm_stu_exam.to_excel('C:\\Users\\caozhiqiang\\Downloads\\期末赋分后数据.xls')


from pyecharts.globals import CurrentConfig, NotebookType
CurrentConfig.NOTEBOOK_TYPE = NotebookType.JUPYTER_LAB


from pyecharts.charts import Bar

bar = Bar()
bar.add_xaxis([2011,2012,2013,2014,2015,2016,2017])
bar.add_yaxis("产品销量", [58000,60200,63000,71000,84000,90500,107000])

bar.load_javascript()
bar.render_notebook()


import requests 
import json


url = 'https://school-cloud.etiantian.com/school-statistics/exam-analysis/school-area-score-multiple-line?'


data = json.dumps({'examId':'1877756070162','compareType':'2','compareExamArray':'','objectTypes':[-1,0,2,4],'examSubjectId':'2','token':'eyJhbGciOiJIUzI1NiIsInR5cCI6IkpXVCJ9.eyJkZXRhaWwiOnsidXNlcklkIjoyOTUxNjM1LCJ1c2VyTmFtZSI6IuWkp-i_nua1i-ivlTAwMSIsInBhc3N3b3JkIjoiIiwidXNlcklkZW50aXR5IjoxLCJlbmFibGUiOjEsInNjaG9vbFVzZXJJZCI6MzY3Njg2LCJzY2hvb2xJZCI6NTAwNDMsInNjaG9vbFVzZXJSZWYiOiJmYzI4Y2IwYi1lMDRmLTQ0ODUtOTQ4Yi02M2Q0NTU2ZmNlNGEiLCJzY2hvb2xHcm91cElkIjo3LCJyb2xlcyI6WzE2LDE3LDIsMjEsNiw5LDEzLDE1XSwidXJsTGlzdCI6bnVsbH0sImV4cCI6MTYyMDMwNDg3MSwidXNlcl9uYW1lIjoi5aSn6L-e5rWL6K-VMDAxIiwianRpIjoiYzZmYzZhZTYtNDhhYS00YjZlLTlmNzQtZjFmZjJjMDdlYzRlIiwiY2xpZW50X2lkIjoiRkE5RTIxNUJFNTY2RUU5MjYxNEZCQzExQUJFREY5NjgiLCJzY29wZSI6WyJhbGwiLCJ3ZWIiLCJtb2JpbGUiXX0.yTqb-3YY_sg5NG_Gi9ve23shM5-dEddLlp86kvOLgnY'})


get_url = 'https://school-cloud.etiantian.com/school-statistics/exam-analysis/school-area-score-multiple-line?examId=346769174074&compareType=4&compareExamArray=&objectTypes=0,2&r=0.2526140433758095&examSubjectId=1&token=eyJhbGciOiJIUzI1NiIsInR5cCI6IkpXVCJ9.eyJkZXRhaWwiOnsidXNlcklkIjoyOTUxNjM1LCJ1c2VyTmFtZSI6IuWkp-i_nua1i-ivlTAwMSIsInBhc3N3b3JkIjoiIiwidXNlcklkZW50aXR5IjoxLCJlbmFibGUiOjEsInNjaG9vbFVzZXJJZCI6MzY3Njg2LCJzY2hvb2xJZCI6NTAwNDMsInNjaG9vbFVzZXJSZWYiOiJmYzI4Y2IwYi1lMDRmLTQ0ODUtOTQ4Yi02M2Q0NTU2ZmNlNGEiLCJzY2hvb2xHcm91cElkIjo3LCJyb2xlcyI6WzE2LDE3LDIsMjEsNiw5LDEzLDE1XSwidXJsTGlzdCI6bnVsbH0sImV4cCI6MTYyMDY0NjgwOSwidXNlcl9uYW1lIjoi5aSn6L-e5rWL6K-VMDAxIiwianRpIjoiM2MzYTBmYzEtNGIwYi00ODllLWI2YTYtNjg4ZDM5OGI5MGUwIiwiY2xpZW50X2lkIjoiRkE5RTIxNUJFNTY2RUU5MjYxNEZCQzExQUJFREY5NjgiLCJzY29wZSI6WyJhbGwiLCJ3ZWIiLCJtb2JpbGUiXX0.3-ey4CzNjlU4QsYEIWFoZI5vfaXf2V6unmzSU6K2Exk'
# requests.request('get',get_url)
ret = requests.get(url=get_url)
text = json.loads(ret.text)
print(text)


x_list = []
for i in text['data']['pointXList']:
    x_list.append(i)
print(x_list)


for i in text['data']['polyLines']:
#     print(i)
    name_list=[]
    value_list=[]
    for p in i['pointArray']:        
        name_list.append(p['name'])
        value_list.append(p['value'])
    print(i['objectName'])
    print(name_list)
    print(value_list)


from pyecharts.globals import CurrentConfig, NotebookType
CurrentConfig.NOTEBOOK_TYPE = NotebookType.JUPYTER_LAB
