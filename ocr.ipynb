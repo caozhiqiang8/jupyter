{
 "cells": [
  {
   "cell_type": "code",
   "execution_count": 1,
   "metadata": {},
   "outputs": [
    {
     "ename": "ModuleNotFoundError",
     "evalue": "No module named 'aip'",
     "output_type": "error",
     "traceback": [
      "\u001b[1;31m---------------------------------------------------------------------------\u001b[0m",
      "\u001b[1;31mModuleNotFoundError\u001b[0m                       Traceback (most recent call last)",
      "\u001b[1;32m<ipython-input-1-2564bf974a8a>\u001b[0m in \u001b[0;36m<module>\u001b[1;34m\u001b[0m\n\u001b[0;32m      2\u001b[0m \u001b[1;32mfrom\u001b[0m \u001b[0mtkinter\u001b[0m \u001b[1;32mimport\u001b[0m \u001b[1;33m*\u001b[0m\u001b[1;33m\u001b[0m\u001b[1;33m\u001b[0m\u001b[0m\n\u001b[0;32m      3\u001b[0m \u001b[1;32mimport\u001b[0m \u001b[0murllib\u001b[0m\u001b[1;33m.\u001b[0m\u001b[0mrequest\u001b[0m\u001b[1;33m\u001b[0m\u001b[1;33m\u001b[0m\u001b[0m\n\u001b[1;32m----> 4\u001b[1;33m \u001b[1;32mfrom\u001b[0m \u001b[0maip\u001b[0m \u001b[1;32mimport\u001b[0m \u001b[0mAipOcr\u001b[0m\u001b[1;33m\u001b[0m\u001b[1;33m\u001b[0m\u001b[0m\n\u001b[0m",
      "\u001b[1;31mModuleNotFoundError\u001b[0m: No module named 'aip'"
     ]
    }
   ],
   "source": [
    "import urllib\n",
    "from tkinter import *\n",
    "import urllib.request\n",
    "from aip import AipOcr"
   ]
  },
  {
   "cell_type": "code",
   "execution_count": 2,
   "metadata": {
    "ExecuteTime": {
     "end_time": "2020-12-24T05:56:31.082772Z",
     "start_time": "2020-12-24T05:56:30.737679Z"
    }
   },
   "outputs": [
    {
     "ename": "ModuleNotFoundError",
     "evalue": "No module named 'aip'",
     "output_type": "error",
     "traceback": [
      "\u001b[1;31m---------------------------------------------------------------------------\u001b[0m",
      "\u001b[1;31mModuleNotFoundError\u001b[0m                       Traceback (most recent call last)",
      "\u001b[1;32m<ipython-input-2-174cd45dd1b6>\u001b[0m in \u001b[0;36m<module>\u001b[1;34m\u001b[0m\n\u001b[1;32m----> 1\u001b[1;33m \u001b[1;32mfrom\u001b[0m \u001b[0maip\u001b[0m \u001b[1;32mimport\u001b[0m \u001b[0mAipOcr\u001b[0m\u001b[1;33m\u001b[0m\u001b[1;33m\u001b[0m\u001b[0m\n\u001b[0m\u001b[0;32m      2\u001b[0m \u001b[1;33m\u001b[0m\u001b[0m\n\u001b[0;32m      3\u001b[0m \u001b[0mAPP_ID\u001b[0m \u001b[1;33m=\u001b[0m \u001b[1;34m'23327235'\u001b[0m\u001b[1;33m\u001b[0m\u001b[1;33m\u001b[0m\u001b[0m\n\u001b[0;32m      4\u001b[0m \u001b[0mAPI_KEY\u001b[0m \u001b[1;33m=\u001b[0m \u001b[1;34m'omveihBTuNPdIsU332DbEIsM'\u001b[0m\u001b[1;33m\u001b[0m\u001b[1;33m\u001b[0m\u001b[0m\n\u001b[0;32m      5\u001b[0m \u001b[0mSECRET_KEY\u001b[0m \u001b[1;33m=\u001b[0m \u001b[1;34m'8M6KFi85pHFsRbaD1slRUDcFD5vWEWr8'\u001b[0m\u001b[1;33m\u001b[0m\u001b[1;33m\u001b[0m\u001b[0m\n",
      "\u001b[1;31mModuleNotFoundError\u001b[0m: No module named 'aip'"
     ]
    }
   ],
   "source": [
    "from aip import AipOcr\n",
    "\n",
    "APP_ID = '23327235'\n",
    "API_KEY = 'omveihBTuNPdIsU332DbEIsM'\n",
    "SECRET_KEY = '8M6KFi85pHFsRbaD1slRUDcFD5vWEWr8'\n",
    "client = AipOcr(APP_ID, API_KEY, SECRET_KEY)\n",
    " \n",
    "def get_file_content(filePath):\n",
    "    with open(filePath, 'rb') as fp:\n",
    "        return fp.read()\n",
    " \n",
    "def image2text(fileName):\n",
    "    image = get_file_content(fileName)\n",
    "    dic_result = client.basicGeneral(image)\n",
    "    res = dic_result['words_result']\n",
    "    result = ''\n",
    "    for m in res:\n",
    "        result = result + str(m['words'])\n",
    "    return result\n",
    " \n",
    "getresult = image2text('C:/Users/caozhiqiang/Desktop/2.png')\n",
    "print(getresult)\n",
    "\n",
    "\n",
    "\n",
    "\n"
   ]
  },
  {
   "cell_type": "code",
   "execution_count": 32,
   "metadata": {
    "ExecuteTime": {
     "end_time": "2020-12-24T06:10:15.396060Z",
     "start_time": "2020-12-24T06:10:15.291307Z"
    }
   },
   "outputs": [
    {
     "name": "stdout",
     "output_type": "stream",
     "text": [
      "24.11821c54c48d74a65c0993f08a8fc7a5.2592000.1611382214.282335-23327235\n"
     ]
    }
   ],
   "source": [
    "# encoding:utf-8\n",
    "import requests \n",
    "\n",
    "# client_id 为官网获取的AK， client_secret 为官网获取的SK\n",
    "host = 'https://aip.baidubce.com/oauth/2.0/token?grant_type=client_credentials&client_id=omveihBTuNPdIsU332DbEIsM&client_secret=8M6KFi85pHFsRbaD1slRUDcFD5vWEWr8'\n",
    "response = requests.get(host).json()\n",
    "response_token = response['access_token']\n",
    "if response:\n",
    "    print(response_token)\n",
    "else:\n",
    "    print('没有获取到')"
   ]
  },
  {
   "cell_type": "code",
   "execution_count": 71,
   "metadata": {
    "ExecuteTime": {
     "end_time": "2020-12-24T09:54:09.393385Z",
     "start_time": "2020-12-24T09:54:08.946601Z"
    },
    "scrolled": true
   },
   "outputs": [
    {
     "name": "stdout",
     "output_type": "stream",
     "text": [
      "2\n",
      "已知集合A={a1:82,83,a6且a1∈N(i=1.2,,6),182+a283+a34+45+a586+a61\n",
      "(1)若(a1,a2,a3,…,a6)=(1,2,3,4,5,6)和(a1,a2,a3,…36)=(1,2,3,4,5,7),分别求S的值;\n"
     ]
    }
   ],
   "source": [
    "\n",
    "import requests\n",
    "import base64\n",
    "\n",
    "'''\n",
    "文档版面分析与识别\n",
    "'''\n",
    "\n",
    "request_url = \"https://aip.baidubce.com/rest/2.0/ocr/v1/doc_analysis\"\n",
    "# 二进制方式打开图片文件\n",
    "f = open('C:/Users/caozhiqiang/Desktop/2.png', 'rb')\n",
    "img = base64.b64encode(f.read())\n",
    "\n",
    "params = {\"image\":img,\"language_type\":\"CHN_ENG\",\"result_type\":\"big\"}\n",
    "access_token = '{}'.format(response_token)\n",
    "request_url = request_url + \"?access_token=\" + access_token\n",
    "headers = {'content-type': 'application/x-www-form-urlencoded'}\n",
    "response = requests.post(request_url, data=params, headers=headers)\n",
    "if response:\n",
    "    \n",
    "    response = response.json()\n",
    "    print(response['results_num'])\n",
    "    for i in range(response['results_num']):\n",
    "        response_word = response['results'][i]['words']['word']\n",
    "        print(response_word)\n",
    "\n",
    "else:\n",
    "    print('调取失败')"
   ]
  },
  {
   "cell_type": "code",
   "execution_count": 70,
   "metadata": {
    "ExecuteTime": {
     "end_time": "2020-12-24T07:06:55.593872Z",
     "start_time": "2020-12-24T07:06:54.882746Z"
    }
   },
   "outputs": [
    {
     "name": "stdout",
     "output_type": "stream",
     "text": [
      "已知集 \\frac { 1 } { 4 } a ^ { 2 } = \\frac { 1 } { 5 }   \\sum _ { r \\geqslant 0 } ^ { n } { f _ { 2 } } = \\int _ - 2 ^ { x } { f \\left( x \\right) }  ,1a2+a2ag+aga4+a4a5+a5ag+aga1\n",
      "(1)若 x ^ { 2 } = 1 2 ^ { 1 } C _ 0 ^ { 3 }  …, \\sum _ { r = 0 } ^ { n } { 1 } , \\begin{aligned} & \\\\ & A _ { 1 } C _ { 1 } = 3 \\}  和( a _ { 1 } = 2 , - \\frac { 1 } { 2 } , - \\frac { 3 } { 2 } + \\frac { 3 } { 4 } , \\frac { 1 } { 2 }  ,分别求S的值\n"
     ]
    }
   ],
   "source": [
    "\n",
    "import requests\n",
    "import base64\n",
    "\n",
    "'''\n",
    "公式识别\n",
    "'''\n",
    "\n",
    "request_url = \"https://aip.baidubce.com/rest/2.0/ocr/v1/formula\"\n",
    "# 二进制方式打开图片文件\n",
    "f = open('C:/Users/caozhiqiang/Desktop/2.png', 'rb')\n",
    "img = base64.b64encode(f.read())\n",
    "\n",
    "params = {\"image\":img,\"language_type\":\"CHN_ENG\",\"result_type\":\"big\"}\n",
    "access_token = '{}'.format(response_token)\n",
    "request_url = request_url + \"?access_token=\" + access_token\n",
    "headers = {'content-type': 'application/x-www-form-urlencoded','disp_formula':'false'}\n",
    "body = {'disp_formula':'false'}\n",
    "response = requests.post(request_url, data=params, headers=headers)\n",
    "if response:\n",
    "    \n",
    "    response = response.json()\n",
    "#     print(response)\n",
    "    for i in range(response['words_result_num']):\n",
    "        response_word = response['words_result'][i]['words']\n",
    "        print(response_word)\n",
    "\n",
    "else:\n",
    "    print('调取失败')"
   ]
  }
 ],
 "metadata": {
  "hide_input": false,
  "kernelspec": {
   "display_name": "Python 3",
   "language": "python",
   "name": "python3"
  },
  "language_info": {
   "codemirror_mode": {
    "name": "ipython",
    "version": 3
   },
   "file_extension": ".py",
   "mimetype": "text/x-python",
   "name": "python",
   "nbconvert_exporter": "python",
   "pygments_lexer": "ipython3",
   "version": "3.8.5"
  },
  "toc": {
   "base_numbering": 1,
   "nav_menu": {},
   "number_sections": true,
   "sideBar": true,
   "skip_h1_title": false,
   "title_cell": "Table of Contents",
   "title_sidebar": "Contents",
   "toc_cell": false,
   "toc_position": {},
   "toc_section_display": true,
   "toc_window_display": false
  },
  "varInspector": {
   "cols": {
    "lenName": 16,
    "lenType": 16,
    "lenVar": 40
   },
   "kernels_config": {
    "python": {
     "delete_cmd_postfix": "",
     "delete_cmd_prefix": "del ",
     "library": "var_list.py",
     "varRefreshCmd": "print(var_dic_list())"
    },
    "r": {
     "delete_cmd_postfix": ") ",
     "delete_cmd_prefix": "rm(",
     "library": "var_list.r",
     "varRefreshCmd": "cat(var_dic_list()) "
    }
   },
   "types_to_exclude": [
    "module",
    "function",
    "builtin_function_or_method",
    "instance",
    "_Feature"
   ],
   "window_display": false
  }
 },
 "nbformat": 4,
 "nbformat_minor": 4
}
