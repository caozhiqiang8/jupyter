{
 "cells": [
  {
   "cell_type": "code",
   "execution_count": 46,
   "metadata": {
    "ExecuteTime": {
     "end_time": "2023-02-15T08:29:20.684489Z",
     "start_time": "2023-02-15T08:29:20.665511Z"
    }
   },
   "outputs": [],
   "source": [
    "import urllib.parse\n",
    "from dingtalkchatbot.chatbot import DingtalkChatbot\n",
    "import time\n",
    "import hmac\n",
    "import urllib\n",
    "import hashlib\n",
    "import base64\n",
    "import requests\n",
    "import  json\n",
    "import pandas as pd\n",
    "import datetime\n",
    "from func_timeout import func_set_timeout\n",
    "import func_timeout"
   ]
  },
  {
   "cell_type": "code",
   "execution_count": 47,
   "metadata": {
    "ExecuteTime": {
     "end_time": "2023-02-15T08:29:21.945550Z",
     "start_time": "2023-02-15T08:29:21.928545Z"
    }
   },
   "outputs": [],
   "source": [
    "pd.set_option(\"display.max_rows\", None)"
   ]
  },
  {
   "cell_type": "code",
   "execution_count": 48,
   "metadata": {
    "ExecuteTime": {
     "end_time": "2023-02-15T08:29:22.354758Z",
     "start_time": "2023-02-15T08:29:22.344785Z"
    }
   },
   "outputs": [],
   "source": [
    "from elasticsearch import Elasticsearch\n",
    "def es_connect(index, body):\n",
    "    es_hosts = str(\"69.230.239.155,43.192.117.34\").split(\",\")\n",
    "    es = Elasticsearch(es_hosts)\n",
    "    res = es.search(index=index, body=body)\n",
    "    res = json.loads(json.dumps(res))\n",
    "    return res"
   ]
  },
  {
   "cell_type": "code",
   "execution_count": 49,
   "metadata": {
    "ExecuteTime": {
     "end_time": "2023-02-15T08:29:22.980922Z",
     "start_time": "2023-02-15T08:29:22.960976Z"
    },
    "code_folding": [
     63,
     115,
     185
    ]
   },
   "outputs": [],
   "source": [
    "\n",
    "# 获取钉钉链接,填入urlToken 和 secret\n",
    "#  正式webhook：https://oapi.dingtalk.com/robot/send?access_token=b05a57084bd9b1f9f5d78dae8237821c78c44890c799c23678c75e0c2aeae2e6\n",
    "# 测试webhook：https://oapi.dingtalk.com/robot/send?access_token=5d1bc1f624eaa769adec05af8b5839a8938e40baa71212cb64b961ffdd3bd903\n",
    "def getSIGN():\n",
    "    timestamp = str(round(time.time() * 1000))\n",
    "    # 正式\n",
    "    # urlToken = r\"https://oapi.dingtalk.com/robot/send?access_token=b05a57084bd9b1f9f5d78dae8237821c78c44890c799c23678c75e0c2aeae2e6\"\n",
    "    # 测试\n",
    "    urlToken = r\"https://oapi.dingtalk.com/robot/send?access_token=5d1bc1f624eaa769adec05af8b5839a8938e40baa71212cb64b961ffdd3bd903\"\n",
    "    secret = 'SEC754805d52d707cd5f3dc7bfaa39fd422869ea7259f2f570b7bce9fb7a8ff2d87'\n",
    "    secret_enc = secret.encode('utf-8')\n",
    "    string_to_sign = '{}\\n{}'.format(timestamp, secret)\n",
    "    string_to_sign_enc = string_to_sign.encode('utf-8')\n",
    "    hmac_code = hmac.new(secret_enc, string_to_sign_enc, digestmod=hashlib.sha256).digest()\n",
    "    sign = urllib.parse.quote_plus(base64.b64encode(hmac_code))\n",
    "\n",
    "    SignMessage = urlToken + \"&timestamp=\" + timestamp + \"&sign=\" + sign\n",
    "    return SignMessage\n",
    "\n",
    "\n",
    "def dingText(msg):\n",
    "    \"\"\"第一: 发送文本-->\n",
    "    send_text(self,msg,is_at_all=False,at_mobiles=[],at_dingtalk_ids=[],is_auto_at=True)\n",
    "        msg: 发送的消息\n",
    "        is_at_all:是@所有人吗? 默认False,如果是True.会覆盖其它的属性\n",
    "        at_mobiles:要@的人的列表,填写的是手机号\n",
    "        at_dingtalk_ids:未知;文档说的是\"被@人的dingtalkId（可选）\"\n",
    "        is_auto_at:默认为True.经过测试,False是每个人一条只能@一次,重复的会过滤,否则不然,测试结果与文档不一致\n",
    "    \"\"\"\n",
    "    SignMessage = getSIGN()\n",
    "    xiaoDing = DingtalkChatbot(SignMessage)  # 初始化机器人\n",
    "    at_dingtalk_ids = ['qrkgfhs']\n",
    "    xiaoDing.send_text(msg='{}'.format(msg), is_at_all=False)\n",
    "\n",
    "\n",
    "def esSerch(body, index = \"two_month_action_logs\"):\n",
    "    res = es_connect(index=index, body=body)\n",
    "    res = json.loads(json.dumps(res))\n",
    "    model_name_agg = res['aggregations']['url_agg']['buckets']\n",
    "    df = pd.json_normalize(model_name_agg)\n",
    "    return df\n",
    "\n",
    "def urlList():\n",
    "    url_list = []\n",
    "    return url_list\n"
   ]
  },
  {
   "cell_type": "code",
   "execution_count": 52,
   "metadata": {
    "ExecuteTime": {
     "end_time": "2023-02-15T08:32:58.547078Z",
     "start_time": "2023-02-15T08:32:58.528129Z"
    }
   },
   "outputs": [],
   "source": [
    "# es查询条数\n",
    "ES_SERCH_NUM = 1000\n",
    "# 超时倍数预警\n",
    "COST_NUM = 1.5\n",
    "# 接口访问倍数预警\n",
    "URL_COUNT_NUM = 5\n",
    "# 报错次数\n",
    "ERR_NUM = 5\n",
    "# datafram 切片数量\n",
    "ILOC_NUM = 20"
   ]
  },
  {
   "cell_type": "code",
   "execution_count": null,
   "metadata": {
    "ExecuteTime": {
     "start_time": "2023-02-15T08:34:56.855Z"
    },
    "code_folding": [
     22,
     73,
     159
    ]
   },
   "outputs": [],
   "source": [
    "\n",
    "\n",
    "#     now_etime = pd.to_datetime(datetime.datetime.now())\n",
    "now_etime = pd.Timestamp(\"2023-02-15 15:46:15\")\n",
    "now_btime = now_etime - pd.to_timedelta(1, unit='h')\n",
    "before_btime = now_btime - pd.to_timedelta(1, unit='d')\n",
    "before_etime = now_etime - pd.to_timedelta(1, unit='d')\n",
    "\n",
    "now_index = \"action_logs_{}\".format(now_etime.strftime(\"%Y%m%d\"))\n",
    "before_index = \"action_logs_{}\".format(before_btime.strftime(\"%Y%m%d\"))\n",
    "\n",
    "if now_etime.strftime(\"%H\") >= '03' and now_etime.strftime(\"%H\") <= '23':\n",
    "\n",
    "    now_btime = now_btime.strftime(\"%Y-%m-%d %H:%M:%S\")\n",
    "    now_etime = now_etime.strftime(\"%Y-%m-%d %H:%M:%S\")\n",
    "    before_btime = before_btime.strftime(\"%Y-%m-%d %H:%M:%S\")\n",
    "    before_etime = before_etime.strftime(\"%Y-%m-%d %H:%M:%S\")\n",
    "    print(\"---------------------{} 至 {}---------------------\".format(now_btime, now_etime))\n",
    "    # print(now_btime, now_etime)\n",
    "    # print(before_btime, before_etime)\n",
    "\n",
    "    # 系统响应时长 监控\n",
    "    body1 = '''\n",
    "                    {\n",
    "              \"size\": 0,\n",
    "              \"query\": {\n",
    "                \"bool\": {\n",
    "                  \"must\": [\n",
    "                    {\n",
    "                      \"range\": {\n",
    "                        \"c_time\": {\n",
    "                          \"gte\": \"%s\",\n",
    "                          \"lte\": \"%s\"\n",
    "                        }\n",
    "                      }\n",
    "                    }\n",
    "                  ]\n",
    "                }\n",
    "              },\n",
    "              \"aggs\": {\n",
    "                \"url_agg\": {\n",
    "                  \"terms\": {\n",
    "                    \"field\": \"url.keyword\",\n",
    "                    \"size\": %s,\n",
    "                    \"order\": {\n",
    "                      \"sum_time\": \"desc\"\n",
    "                    }\n",
    "                  },\n",
    "                  \"aggs\": {\n",
    "                    \"avg_time\": {\n",
    "                      \"avg\": {\n",
    "                        \"field\": \"cost_time\"\n",
    "                      }\n",
    "                    },\n",
    "                    \"sum_time\": {\n",
    "                      \"sum\": {\n",
    "                        \"field\": \"cost_time\"\n",
    "                      }\n",
    "                    },\n",
    "                    \"sum_user\": {\n",
    "                      \"cardinality\": {\n",
    "                        \"field\": \"jid\"\n",
    "                      }\n",
    "                    }\n",
    "                  }\n",
    "                }\n",
    "              }\n",
    "            }\n",
    "                ''' % (now_btime, now_etime, ES_SERCH_NUM)\n",
    "    df1 = esSerch(body1, now_index)\n",
    "    df1.columns = ['url', '今日访问次数', '今日访问总时长', '今日访问人数', '今日平均用时']\n",
    "    url_list = str(df1['url'].to_list()).replace(\"'\", \"\\\"\")\n",
    "\n",
    "    body2 = '''\n",
    "        {\n",
    "              \"size\": 0,\n",
    "              \"query\": {\n",
    "                \"bool\": {\n",
    "                  \"must\": [\n",
    "                    {\n",
    "                      \"range\": {\n",
    "                        \"c_time\": {\n",
    "                          \"gte\": \"%s\",\n",
    "                          \"lte\": \"%s\"\n",
    "                        }\n",
    "                      }\n",
    "                    },\n",
    "                    {\"terms\": {\n",
    "                          \"url.keyword\":%s\n",
    "                        }}\n",
    "                  ]\n",
    "                }\n",
    "              },\n",
    "              \"aggs\": {\n",
    "                \"url_agg\": {\n",
    "                  \"terms\": {\n",
    "                    \"field\": \"url.keyword\",\n",
    "                    \"size\": %s,\n",
    "                    \"order\": {\n",
    "                      \"sum_time\": \"desc\"\n",
    "                    }\n",
    "                  },\n",
    "                  \"aggs\": {\n",
    "                    \"avg_time\": {\n",
    "                      \"avg\": {\n",
    "                        \"field\": \"cost_time\"\n",
    "                      }\n",
    "                    },\n",
    "                    \"sum_time\": {\n",
    "                      \"sum\": {\n",
    "                        \"field\": \"cost_time\"\n",
    "                      }\n",
    "                    },\n",
    "                    \"sum_user\": {\n",
    "                      \"cardinality\": {\n",
    "                        \"field\": \"jid\"\n",
    "                      }\n",
    "                    }\n",
    "                  }\n",
    "                }\n",
    "              }\n",
    "            }\n",
    "                ''' % (before_btime, before_etime, url_list, ES_SERCH_NUM)\n",
    "    df2 = esSerch(body2, before_index)\n",
    "    df2.columns = ['url', '昨日访问次数', '昨日访问总时长', '昨日访问人数', '昨日平均用时']\n",
    "\n",
    "    df_merge = pd.merge(df1, df2, on='url', how='left')\n",
    "    df_merge = df_merge[['url', '今日平均用时', '昨日平均用时', '今日访问次数', '昨日访问次数', '今日访问总时长', '昨日访问总时长', '今日访问人数', '昨日访问人数']]\n",
    "    df_merge = df_merge.fillna(0)\n",
    "    df_merge = df_merge.sort_values(by='今日访问总时长', ascending=False)\n",
    "\n",
    "    cost_time = df_merge.iloc[:ILOC_NUM, :].loc[:,'今日平均用时':'昨日平均用时']\n",
    "    cost_time_res = cost_time[(cost_time['今日平均用时'] > (cost_time['昨日平均用时'] * COST_NUM)) & cost_time['昨日平均用时'] > 0]\n",
    "    cost_time_res_dict = cost_time_res.iloc[:, :].to_dict(orient='records')\n",
    "    if len(cost_time_res_dict) > 0:\n",
    "        ding_text = '{} 至 {} 接口超时{}倍 \\n'.format(now_btime, now_etime, COST_NUM)\n",
    "        for i in cost_time_res_dict:\n",
    "            ding_text = ding_text + '{}\\n'.format(i)\n",
    "            print(ding_text)\n",
    "#             dingText(ding_text)\n",
    "        print('接口超时发送成功')\n",
    "    else:\n",
    "        print('没有接口超时')\n",
    "\n",
    "    # 接口访问次数 监控\n",
    "    url_count = df_merge.iloc[:ILOC_NUM, :]\n",
    "    url_count_res = cost_time[\n",
    "        (url_count['今日访问次数'] > (url_count['昨日访问次数'] * URL_COUNT_NUM)) & url_count['昨日访问次数'] > 0]\n",
    "    url_count_res_dict = url_count_res.iloc[:, :].to_dict(orient='records')\n",
    "    if len(url_count_res_dict) > 0:\n",
    "        ding_text = '{} 至 {} 接口访问次数暴增{}倍 \\n'.format(now_btime, now_etime, URL_COUNT_NUM)\n",
    "        for i in url_count_res_dict:\n",
    "            ding_text = ding_text + '{}\\n'.format(i)\n",
    "            print(ding_text)\n",
    "#             dingText(ding_text)\n",
    "        print('接口访问次数异常发送成功')\n",
    "    else:\n",
    "        print('没有接口访问次数增多')\n",
    "\n",
    "    try:\n",
    "        # 接口报错 监控\n",
    "        url_err_body = '''\n",
    "            {\n",
    "              \"query\": {\n",
    "                \"bool\": {\n",
    "                  \"must\": [\n",
    "                    {\n",
    "                      \"term\": {\n",
    "                        \"status\": {\n",
    "                          \"value\": \"500\"\n",
    "                        }\n",
    "                      }\n",
    "                    },\n",
    "                {\n",
    "                  \"range\": {\n",
    "                    \"c_time\": {\n",
    "                      \"gte\": \"%s\",\n",
    "                      \"lte\": \"%s\"\n",
    "                    }\n",
    "                  }\n",
    "                }\n",
    "\n",
    "                  ]\n",
    "                }\n",
    "              },\n",
    "              \"aggs\": {\n",
    "                \"url_agg\": {\n",
    "                  \"terms\": {\n",
    "                    \"field\": \"url.keyword\"\n",
    "                  }\n",
    "                }\n",
    "              },\n",
    "              \"size\":0\n",
    "            }\n",
    "            ''' % (now_btime, now_etime)\n",
    "        url_err = esSerch(url_err_body, now_index)\n",
    "        url_err.columns = ['url', '报错次数']\n",
    "        url_err = url_err[url_err['报错次数'] >= ERR_NUM]\n",
    "        url_err_dict = url_err.iloc[:, :].to_dict(orient='records')\n",
    "        if len(url_err_dict) > 0:\n",
    "            for i in url_err_dict:\n",
    "                ding_text = '{} 至 {} 接口报错{}次以上 \\n'.format(now_btime, now_etime, ERR_NUM)\n",
    "                ding_text = ding_text + '{}\\n'.format(i)\n",
    "                print(ding_text)\n",
    "#                     dingText(ding_text)\n",
    "                time.sleep(1)\n",
    "            print('报错次数发送成功')\n",
    "        else:\n",
    "            print('没有接口报错')\n",
    "    except:\n",
    "        print('没有接口报错')\n",
    "else:\n",
    "    print('{} 系统休息'.format(now_etime))\n",
    "\n"
   ]
  },
  {
   "cell_type": "code",
   "execution_count": 27,
   "metadata": {
    "ExecuteTime": {
     "end_time": "2023-02-10T02:39:57.652865Z",
     "start_time": "2023-02-10T02:39:57.630925Z"
    }
   },
   "outputs": [
    {
     "ename": "AttributeError",
     "evalue": "'Series' object has no attribute 'inin'",
     "output_type": "error",
     "traceback": [
      "\u001b[1;31m---------------------------------------------------------------------------\u001b[0m",
      "\u001b[1;31mAttributeError\u001b[0m                            Traceback (most recent call last)",
      "\u001b[1;32m<ipython-input-27-3d33f1f0bf09>\u001b[0m in \u001b[0;36m<module>\u001b[1;34m\u001b[0m\n\u001b[1;32m----> 1\u001b[1;33m \u001b[0murl_err\u001b[0m\u001b[1;33m[\u001b[0m\u001b[1;34m'url'\u001b[0m\u001b[1;33m]\u001b[0m\u001b[1;33m.\u001b[0m\u001b[0minin\u001b[0m\u001b[1;33m(\u001b[0m\u001b[0murlList\u001b[0m\u001b[1;33m(\u001b[0m\u001b[1;33m)\u001b[0m\u001b[1;33m)\u001b[0m\u001b[1;33m\u001b[0m\u001b[1;33m\u001b[0m\u001b[0m\n\u001b[0m",
      "\u001b[1;32mc:\\users\\caozhiqiang\\appdata\\local\\programs\\python\\python38-32\\lib\\site-packages\\pandas\\core\\generic.py\u001b[0m in \u001b[0;36m__getattr__\u001b[1;34m(self, name)\u001b[0m\n\u001b[0;32m   5137\u001b[0m             \u001b[1;32mif\u001b[0m \u001b[0mself\u001b[0m\u001b[1;33m.\u001b[0m\u001b[0m_info_axis\u001b[0m\u001b[1;33m.\u001b[0m\u001b[0m_can_hold_identifiers_and_holds_name\u001b[0m\u001b[1;33m(\u001b[0m\u001b[0mname\u001b[0m\u001b[1;33m)\u001b[0m\u001b[1;33m:\u001b[0m\u001b[1;33m\u001b[0m\u001b[1;33m\u001b[0m\u001b[0m\n\u001b[0;32m   5138\u001b[0m                 \u001b[1;32mreturn\u001b[0m \u001b[0mself\u001b[0m\u001b[1;33m[\u001b[0m\u001b[0mname\u001b[0m\u001b[1;33m]\u001b[0m\u001b[1;33m\u001b[0m\u001b[1;33m\u001b[0m\u001b[0m\n\u001b[1;32m-> 5139\u001b[1;33m             \u001b[1;32mreturn\u001b[0m \u001b[0mobject\u001b[0m\u001b[1;33m.\u001b[0m\u001b[0m__getattribute__\u001b[0m\u001b[1;33m(\u001b[0m\u001b[0mself\u001b[0m\u001b[1;33m,\u001b[0m \u001b[0mname\u001b[0m\u001b[1;33m)\u001b[0m\u001b[1;33m\u001b[0m\u001b[1;33m\u001b[0m\u001b[0m\n\u001b[0m\u001b[0;32m   5140\u001b[0m \u001b[1;33m\u001b[0m\u001b[0m\n\u001b[0;32m   5141\u001b[0m     \u001b[1;32mdef\u001b[0m \u001b[0m__setattr__\u001b[0m\u001b[1;33m(\u001b[0m\u001b[0mself\u001b[0m\u001b[1;33m,\u001b[0m \u001b[0mname\u001b[0m\u001b[1;33m:\u001b[0m \u001b[0mstr\u001b[0m\u001b[1;33m,\u001b[0m \u001b[0mvalue\u001b[0m\u001b[1;33m)\u001b[0m \u001b[1;33m->\u001b[0m \u001b[1;32mNone\u001b[0m\u001b[1;33m:\u001b[0m\u001b[1;33m\u001b[0m\u001b[1;33m\u001b[0m\u001b[0m\n",
      "\u001b[1;31mAttributeError\u001b[0m: 'Series' object has no attribute 'inin'"
     ]
    }
   ],
   "source": [
    "url_err['url'].inin(urlList())"
   ]
  },
  {
   "cell_type": "code",
   "execution_count": 26,
   "metadata": {
    "ExecuteTime": {
     "end_time": "2023-02-10T02:39:44.634268Z",
     "start_time": "2023-02-10T02:39:44.626287Z"
    }
   },
   "outputs": [
    {
     "data": {
      "text/plain": [
       "[]"
      ]
     },
     "execution_count": 26,
     "metadata": {},
     "output_type": "execute_result"
    }
   ],
   "source": [
    "urlList()"
   ]
  },
  {
   "cell_type": "code",
   "execution_count": 18,
   "metadata": {
    "ExecuteTime": {
     "end_time": "2023-02-09T09:40:17.625841Z",
     "start_time": "2023-02-09T09:39:49.834232Z"
    }
   },
   "outputs": [
    {
     "name": "stdout",
     "output_type": "stream",
     "text": [
      "请输入已经修复的URL：1111\n",
      "['1111']\n",
      "添加成功\n",
      "['1111']\n",
      "请输入已经修复的URL：222\n",
      "['1111', '222']\n",
      "添加成功\n",
      "['1111', '222']\n"
     ]
    },
    {
     "ename": "KeyboardInterrupt",
     "evalue": "",
     "output_type": "error",
     "traceback": [
      "\u001b[1;31m---------------------------------------------------------------------------\u001b[0m",
      "\u001b[1;31mKeyboardInterrupt\u001b[0m                         Traceback (most recent call last)",
      "\u001b[1;32m<ipython-input-18-aaf36029ca4d>\u001b[0m in \u001b[0;36m<module>\u001b[1;34m\u001b[0m\n\u001b[0;32m      9\u001b[0m \u001b[1;33m\u001b[0m\u001b[0m\n\u001b[0;32m     10\u001b[0m     \u001b[1;32mtry\u001b[0m\u001b[1;33m:\u001b[0m\u001b[1;33m\u001b[0m\u001b[1;33m\u001b[0m\u001b[0m\n\u001b[1;32m---> 11\u001b[1;33m         \u001b[0minputUrl\u001b[0m\u001b[1;33m(\u001b[0m\u001b[1;33m)\u001b[0m\u001b[1;33m\u001b[0m\u001b[1;33m\u001b[0m\u001b[0m\n\u001b[0m\u001b[0;32m     12\u001b[0m     \u001b[1;32mexcept\u001b[0m \u001b[0mfunc_timeout\u001b[0m\u001b[1;33m.\u001b[0m\u001b[0mexceptions\u001b[0m\u001b[1;33m.\u001b[0m\u001b[0mFunctionTimedOut\u001b[0m  \u001b[1;32mas\u001b[0m \u001b[0me\u001b[0m\u001b[1;33m:\u001b[0m\u001b[1;33m\u001b[0m\u001b[1;33m\u001b[0m\u001b[0m\n\u001b[0;32m     13\u001b[0m         \u001b[1;32mpass\u001b[0m\u001b[1;33m\u001b[0m\u001b[1;33m\u001b[0m\u001b[0m\n",
      "\u001b[1;32mc:\\users\\caozhiqiang\\appdata\\local\\programs\\python\\python38-32\\lib\\site-packages\\func_timeout\\dafunc.py\u001b[0m in \u001b[0;36m<lambda>\u001b[1;34m(*args, **kwargs)\u001b[0m\n\u001b[0;32m    183\u001b[0m         \u001b[1;32mdef\u001b[0m \u001b[0m_function_decorator\u001b[0m\u001b[1;33m(\u001b[0m\u001b[0mfunc\u001b[0m\u001b[1;33m)\u001b[0m\u001b[1;33m:\u001b[0m\u001b[1;33m\u001b[0m\u001b[1;33m\u001b[0m\u001b[0m\n\u001b[0;32m    184\u001b[0m \u001b[1;33m\u001b[0m\u001b[0m\n\u001b[1;32m--> 185\u001b[1;33m             \u001b[1;32mreturn\u001b[0m \u001b[0mwraps\u001b[0m\u001b[1;33m(\u001b[0m\u001b[0mfunc\u001b[0m\u001b[1;33m)\u001b[0m\u001b[1;33m(\u001b[0m\u001b[1;32mlambda\u001b[0m \u001b[1;33m*\u001b[0m\u001b[0margs\u001b[0m\u001b[1;33m,\u001b[0m \u001b[1;33m**\u001b[0m\u001b[0mkwargs\u001b[0m \u001b[1;33m:\u001b[0m \u001b[0mfunc_timeout\u001b[0m\u001b[1;33m(\u001b[0m\u001b[0mdefaultTimeout\u001b[0m\u001b[1;33m,\u001b[0m \u001b[0mfunc\u001b[0m\u001b[1;33m,\u001b[0m \u001b[0margs\u001b[0m\u001b[1;33m=\u001b[0m\u001b[0margs\u001b[0m\u001b[1;33m,\u001b[0m \u001b[0mkwargs\u001b[0m\u001b[1;33m=\u001b[0m\u001b[0mkwargs\u001b[0m\u001b[1;33m)\u001b[0m\u001b[1;33m)\u001b[0m\u001b[1;33m\u001b[0m\u001b[1;33m\u001b[0m\u001b[0m\n\u001b[0m\u001b[0;32m    186\u001b[0m \u001b[1;33m\u001b[0m\u001b[0m\n\u001b[0;32m    187\u001b[0m \u001b[1;31m#            def _function_wrapper(*args, **kwargs):\u001b[0m\u001b[1;33m\u001b[0m\u001b[1;33m\u001b[0m\u001b[1;33m\u001b[0m\u001b[0m\n",
      "\u001b[1;32mc:\\users\\caozhiqiang\\appdata\\local\\programs\\python\\python38-32\\lib\\site-packages\\func_timeout\\dafunc.py\u001b[0m in \u001b[0;36mfunc_timeout\u001b[1;34m(timeout, func, args, kwargs)\u001b[0m\n\u001b[0;32m     84\u001b[0m \u001b[1;33m\u001b[0m\u001b[0m\n\u001b[0;32m     85\u001b[0m     \u001b[0mthread\u001b[0m\u001b[1;33m.\u001b[0m\u001b[0mstart\u001b[0m\u001b[1;33m(\u001b[0m\u001b[1;33m)\u001b[0m\u001b[1;33m\u001b[0m\u001b[1;33m\u001b[0m\u001b[0m\n\u001b[1;32m---> 86\u001b[1;33m     \u001b[0mthread\u001b[0m\u001b[1;33m.\u001b[0m\u001b[0mjoin\u001b[0m\u001b[1;33m(\u001b[0m\u001b[0mtimeout\u001b[0m\u001b[1;33m)\u001b[0m\u001b[1;33m\u001b[0m\u001b[1;33m\u001b[0m\u001b[0m\n\u001b[0m\u001b[0;32m     87\u001b[0m \u001b[1;33m\u001b[0m\u001b[0m\n\u001b[0;32m     88\u001b[0m     \u001b[0mstopException\u001b[0m \u001b[1;33m=\u001b[0m \u001b[1;32mNone\u001b[0m\u001b[1;33m\u001b[0m\u001b[1;33m\u001b[0m\u001b[0m\n",
      "\u001b[1;32mc:\\users\\caozhiqiang\\appdata\\local\\programs\\python\\python38-32\\lib\\threading.py\u001b[0m in \u001b[0;36mjoin\u001b[1;34m(self, timeout)\u001b[0m\n\u001b[0;32m   1013\u001b[0m             \u001b[1;31m# the behavior of a negative timeout isn't documented, but\u001b[0m\u001b[1;33m\u001b[0m\u001b[1;33m\u001b[0m\u001b[1;33m\u001b[0m\u001b[0m\n\u001b[0;32m   1014\u001b[0m             \u001b[1;31m# historically .join(timeout=x) for x<0 has acted as if timeout=0\u001b[0m\u001b[1;33m\u001b[0m\u001b[1;33m\u001b[0m\u001b[1;33m\u001b[0m\u001b[0m\n\u001b[1;32m-> 1015\u001b[1;33m             \u001b[0mself\u001b[0m\u001b[1;33m.\u001b[0m\u001b[0m_wait_for_tstate_lock\u001b[0m\u001b[1;33m(\u001b[0m\u001b[0mtimeout\u001b[0m\u001b[1;33m=\u001b[0m\u001b[0mmax\u001b[0m\u001b[1;33m(\u001b[0m\u001b[0mtimeout\u001b[0m\u001b[1;33m,\u001b[0m \u001b[1;36m0\u001b[0m\u001b[1;33m)\u001b[0m\u001b[1;33m)\u001b[0m\u001b[1;33m\u001b[0m\u001b[1;33m\u001b[0m\u001b[0m\n\u001b[0m\u001b[0;32m   1016\u001b[0m \u001b[1;33m\u001b[0m\u001b[0m\n\u001b[0;32m   1017\u001b[0m     \u001b[1;32mdef\u001b[0m \u001b[0m_wait_for_tstate_lock\u001b[0m\u001b[1;33m(\u001b[0m\u001b[0mself\u001b[0m\u001b[1;33m,\u001b[0m \u001b[0mblock\u001b[0m\u001b[1;33m=\u001b[0m\u001b[1;32mTrue\u001b[0m\u001b[1;33m,\u001b[0m \u001b[0mtimeout\u001b[0m\u001b[1;33m=\u001b[0m\u001b[1;33m-\u001b[0m\u001b[1;36m1\u001b[0m\u001b[1;33m)\u001b[0m\u001b[1;33m:\u001b[0m\u001b[1;33m\u001b[0m\u001b[1;33m\u001b[0m\u001b[0m\n",
      "\u001b[1;32mc:\\users\\caozhiqiang\\appdata\\local\\programs\\python\\python38-32\\lib\\threading.py\u001b[0m in \u001b[0;36m_wait_for_tstate_lock\u001b[1;34m(self, block, timeout)\u001b[0m\n\u001b[0;32m   1025\u001b[0m         \u001b[1;32mif\u001b[0m \u001b[0mlock\u001b[0m \u001b[1;32mis\u001b[0m \u001b[1;32mNone\u001b[0m\u001b[1;33m:\u001b[0m  \u001b[1;31m# already determined that the C code is done\u001b[0m\u001b[1;33m\u001b[0m\u001b[1;33m\u001b[0m\u001b[0m\n\u001b[0;32m   1026\u001b[0m             \u001b[1;32massert\u001b[0m \u001b[0mself\u001b[0m\u001b[1;33m.\u001b[0m\u001b[0m_is_stopped\u001b[0m\u001b[1;33m\u001b[0m\u001b[1;33m\u001b[0m\u001b[0m\n\u001b[1;32m-> 1027\u001b[1;33m         \u001b[1;32melif\u001b[0m \u001b[0mlock\u001b[0m\u001b[1;33m.\u001b[0m\u001b[0macquire\u001b[0m\u001b[1;33m(\u001b[0m\u001b[0mblock\u001b[0m\u001b[1;33m,\u001b[0m \u001b[0mtimeout\u001b[0m\u001b[1;33m)\u001b[0m\u001b[1;33m:\u001b[0m\u001b[1;33m\u001b[0m\u001b[1;33m\u001b[0m\u001b[0m\n\u001b[0m\u001b[0;32m   1028\u001b[0m             \u001b[0mlock\u001b[0m\u001b[1;33m.\u001b[0m\u001b[0mrelease\u001b[0m\u001b[1;33m(\u001b[0m\u001b[1;33m)\u001b[0m\u001b[1;33m\u001b[0m\u001b[1;33m\u001b[0m\u001b[0m\n\u001b[0;32m   1029\u001b[0m             \u001b[0mself\u001b[0m\u001b[1;33m.\u001b[0m\u001b[0m_stop\u001b[0m\u001b[1;33m(\u001b[0m\u001b[1;33m)\u001b[0m\u001b[1;33m\u001b[0m\u001b[1;33m\u001b[0m\u001b[0m\n",
      "\u001b[1;31mKeyboardInterrupt\u001b[0m: "
     ]
    }
   ],
   "source": [
    "url_list = []\n",
    "while True:\n",
    "    @func_set_timeout(5)\n",
    "    def inputUrl():\n",
    "        url = input('请输入已经修复的URL：')\n",
    "        url_list.append(url)\n",
    "        print(url_list)\n",
    "        print(\"添加成功\")\n",
    "        \n",
    "    try:\n",
    "        inputUrl()\n",
    "    except func_timeout.exceptions.FunctionTimedOut  as e:\n",
    "        pass\n",
    "    print(url_list)\n",
    "    time.sleep(10)"
   ]
  },
  {
   "cell_type": "code",
   "execution_count": 15,
   "metadata": {
    "ExecuteTime": {
     "end_time": "2023-02-09T01:24:04.318870Z",
     "start_time": "2023-02-09T01:24:04.304908Z"
    }
   },
   "outputs": [
    {
     "name": "stdout",
     "output_type": "stream",
     "text": [
      "2023-02-09 00:17:14\n",
      "<class 'pandas._libs.tslibs.timestamps.Timestamp'>\n",
      "2023-02-08 00:00:01 2023-02-09 00:17:14\n",
      "2023-02-07 00:00:01 2023-02-08 00:17:14\n",
      "<class 'str'>\n"
     ]
    }
   ],
   "source": [
    "# now_etime = pd.to_datetime(datetime.datetime.now())\n",
    "now_etime = pd.Timestamp(\"2023-02-09 00:17:14\")\n",
    "print(now_etime)\n",
    "print(type(now_etime))\n",
    "# now_etime = \n",
    "now_btime = now_etime - pd.to_timedelta(1, unit='h')\n",
    "before_btime = now_btime - pd.to_timedelta(1, unit='d')\n",
    "before_etime = now_etime - pd.to_timedelta(1, unit='d')\n",
    "\n",
    "\n",
    "now_index = \"action_logs_{}\".format(now_etime.strftime(\"%Y%m%d\"))\n",
    "before_index = \"action_logs_{}\".format(before_btime.strftime(\"%Y%m%d\"))\n",
    "\n",
    "\n",
    "if now_etime.strftime(\"%H\") == '00':\n",
    "    now_btime = now_btime.strftime(\"%Y-%m-%d {}\".format('00:00:01'))\n",
    "    now_etime = now_etime.strftime(\"%Y-%m-%d %H:%M:%S\")\n",
    "    before_btime = before_btime.strftime(\"%Y-%m-%d {}\".format('00:00:01'))\n",
    "    before_etime = before_etime.strftime(\"%Y-%m-%d %H:%M:%S\")\n",
    "    \n",
    "else:\n",
    "    now_btime = now_btime.strftime(\"%Y-%m-%d %H:%M:%S\")\n",
    "    now_etime = now_etime.strftime(\"%Y-%m-%d %H:%M:%S\")\n",
    "    before_btime = before_btime.strftime(\"%Y-%m-%d %H:%M:%S\")\n",
    "    before_etime = before_etime.strftime(\"%Y-%m-%d %H:%M:%S\")\n",
    "print(now_btime, now_etime)\n",
    "print(before_btime, before_etime)\n",
    "print(type(now_btime))"
   ]
  },
  {
   "cell_type": "code",
   "execution_count": null,
   "metadata": {},
   "outputs": [],
   "source": [
    "if now_etime"
   ]
  }
 ],
 "metadata": {
  "hide_input": false,
  "kernelspec": {
   "display_name": "Python 3",
   "language": "python",
   "name": "python3"
  },
  "language_info": {
   "codemirror_mode": {
    "name": "ipython",
    "version": 3
   },
   "file_extension": ".py",
   "mimetype": "text/x-python",
   "name": "python",
   "nbconvert_exporter": "python",
   "pygments_lexer": "ipython3",
   "version": "3.8.5"
  },
  "toc": {
   "base_numbering": 1,
   "nav_menu": {},
   "number_sections": true,
   "sideBar": true,
   "skip_h1_title": false,
   "title_cell": "Table of Contents",
   "title_sidebar": "Contents",
   "toc_cell": false,
   "toc_position": {},
   "toc_section_display": true,
   "toc_window_display": false
  },
  "varInspector": {
   "cols": {
    "lenName": 16,
    "lenType": 16,
    "lenVar": 40
   },
   "kernels_config": {
    "python": {
     "delete_cmd_postfix": "",
     "delete_cmd_prefix": "del ",
     "library": "var_list.py",
     "varRefreshCmd": "print(var_dic_list())"
    },
    "r": {
     "delete_cmd_postfix": ") ",
     "delete_cmd_prefix": "rm(",
     "library": "var_list.r",
     "varRefreshCmd": "cat(var_dic_list()) "
    }
   },
   "types_to_exclude": [
    "module",
    "function",
    "builtin_function_or_method",
    "instance",
    "_Feature"
   ],
   "window_display": false
  }
 },
 "nbformat": 4,
 "nbformat_minor": 4
}
